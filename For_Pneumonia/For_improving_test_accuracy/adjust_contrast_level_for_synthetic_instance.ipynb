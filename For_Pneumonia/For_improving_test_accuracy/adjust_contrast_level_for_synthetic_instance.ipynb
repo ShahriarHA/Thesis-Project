{
 "cells": [
  {
   "cell_type": "code",
   "execution_count": 1,
   "id": "54304b9f",
   "metadata": {},
   "outputs": [],
   "source": [
    "from imblearn.over_sampling import SMOTE\n",
    "import cv2\n",
    "import os\n",
    "import numpy as np"
   ]
  },
  {
   "cell_type": "code",
   "execution_count": 2,
   "id": "ff16dac8",
   "metadata": {},
   "outputs": [],
   "source": [
    "dataset_dir = \"D:/NEUB/MachineLearning/ThesisProject/x-rayImages/chest_xray/train\""
   ]
  },
  {
   "cell_type": "code",
   "execution_count": 3,
   "id": "f18129b8",
   "metadata": {},
   "outputs": [
    {
     "name": "stdout",
     "output_type": "stream",
     "text": [
      "Class counts:\n",
      "NORMAL: 1341 samples\n",
      "PNEUMONIA: 3875 samples\n",
      "The minority class is: NORMAL\n"
     ]
    }
   ],
   "source": [
    "classes = os.listdir(dataset_dir)\n",
    "\n",
    "class_counts = {}\n",
    "\n",
    "for class_name in classes:\n",
    "    class_path = os.path.join(dataset_dir, class_name)\n",
    "    num_samples = len(os.listdir(class_path))\n",
    "    class_counts[class_name] = num_samples\n",
    "\n",
    "# Determine the minority class\n",
    "minority_class = min(class_counts, key=class_counts.get)\n",
    "\n",
    "print(\"Class counts:\")\n",
    "for class_name, count in class_counts.items():\n",
    "    print(f\"{class_name}: {count} samples\")\n",
    "\n",
    "print(f\"The minority class is: {minority_class}\")"
   ]
  },
  {
   "cell_type": "code",
   "execution_count": 4,
   "id": "12c81c95",
   "metadata": {},
   "outputs": [],
   "source": [
    "def load_images_from_directory(directory):\n",
    "    images = []\n",
    "    labels = []\n",
    "    for class_name in os.listdir(directory):\n",
    "        class_dir = os.path.join(directory, class_name)\n",
    "        if os.path.isdir(class_dir):\n",
    "            for image_name in os.listdir(class_dir):\n",
    "                image_path = os.path.join(class_dir, image_name)\n",
    "                image = cv2.imread(image_path)\n",
    "                if image is not None:\n",
    "                    image = cv2.resize(image, (256, 256))\n",
    "                    images.append(image)\n",
    "                    labels.append(class_name)\n",
    "    return images, labels"
   ]
  },
  {
   "cell_type": "code",
   "execution_count": 5,
   "id": "55c9a485",
   "metadata": {},
   "outputs": [],
   "source": [
    "images, labels = load_images_from_directory(dataset_dir)"
   ]
  },
  {
   "cell_type": "code",
   "execution_count": 6,
   "id": "f4b700dc",
   "metadata": {},
   "outputs": [],
   "source": [
    "X = np.array(images)\n",
    "y = np.array(labels)"
   ]
  },
  {
   "cell_type": "code",
   "execution_count": 7,
   "id": "1523f921",
   "metadata": {},
   "outputs": [],
   "source": [
    "# Initialize SMOTE with your desired sampling strategy\n",
    "smote = SMOTE(sampling_strategy='auto',k_neighbors=5, random_state=42)"
   ]
  },
  {
   "cell_type": "code",
   "execution_count": 8,
   "id": "6284d45f",
   "metadata": {},
   "outputs": [],
   "source": [
    "# Apply SMOTE to your training data\n",
    "X_resampled, y_resampled = smote.fit_resample(X.reshape(-1, X.shape[1]*X.shape[2]*X.shape[3]), y)"
   ]
  },
  {
   "cell_type": "code",
   "execution_count": 9,
   "id": "a99dceb1",
   "metadata": {},
   "outputs": [],
   "source": [
    "# Convert the resampled images back to their original shape\n",
    "X_resampled = X_resampled.reshape(-1, X.shape[1], X.shape[2], X.shape[3])"
   ]
  },
  {
   "cell_type": "code",
   "execution_count": 26,
   "id": "245aa8d5",
   "metadata": {},
   "outputs": [],
   "source": [
    "desired_contrast = 0.5\n",
    "desired_brightness = 0"
   ]
  },
  {
   "cell_type": "code",
   "execution_count": 27,
   "id": "35ba9577",
   "metadata": {},
   "outputs": [],
   "source": [
    "adjusted_synthetic_samples = []\n",
    "for synthetic_sample in X_resampled:\n",
    "    # Convert to 8-bit unsigned integer format\n",
    "    synthetic_sample = np.uint8(synthetic_sample)\n",
    "    \n",
    "    # Apply contrast adjustment\n",
    "    adjusted_sample = cv2.convertScaleAbs(synthetic_sample, alpha=desired_contrast, beta=desired_brightness)\n",
    "    \n",
    "    # Append the adjusted sample to the list\n",
    "    adjusted_synthetic_samples.append(adjusted_sample)"
   ]
  },
  {
   "cell_type": "code",
   "execution_count": 28,
   "id": "dafdd50d",
   "metadata": {},
   "outputs": [],
   "source": [
    "X_train_adjusted = np.concatenate((X, adjusted_synthetic_samples), axis=0)\n",
    "y_train_adjusted = np.concatenate((y, y_resampled), axis=0)"
   ]
  },
  {
   "cell_type": "code",
   "execution_count": 29,
   "id": "b4f0082f",
   "metadata": {},
   "outputs": [],
   "source": [
    "resampled_dir = \"D:/NEUB/MachineLearning/ThesisProject/x-rayImages/chest_xray/synthetic_samples/train_resampled_adjust_contrast_v1\"\n",
    "os.makedirs(resampled_dir, exist_ok=True)"
   ]
  },
  {
   "cell_type": "code",
   "execution_count": 30,
   "id": "9948a0da",
   "metadata": {},
   "outputs": [
    {
     "name": "stdout",
     "output_type": "stream",
     "text": [
      "done!\n"
     ]
    }
   ],
   "source": [
    "for i, (image, label) in enumerate(zip(adjusted_synthetic_samples, y_resampled)):\n",
    "    class_dir = os.path.join(resampled_dir, label)\n",
    "    os.makedirs(class_dir, exist_ok=True)\n",
    "    filename = f\"{label}_{i}.jpeg\"\n",
    "    image_path = os.path.join(class_dir, filename)\n",
    "    cv2.imwrite(image_path, image)\n",
    "print(\"done!\")"
   ]
  },
  {
   "cell_type": "code",
   "execution_count": null,
   "id": "5045deda",
   "metadata": {},
   "outputs": [],
   "source": []
  }
 ],
 "metadata": {
  "kernelspec": {
   "display_name": "Python 3 (ipykernel)",
   "language": "python",
   "name": "python3"
  },
  "language_info": {
   "codemirror_mode": {
    "name": "ipython",
    "version": 3
   },
   "file_extension": ".py",
   "mimetype": "text/x-python",
   "name": "python",
   "nbconvert_exporter": "python",
   "pygments_lexer": "ipython3",
   "version": "3.9.16"
  }
 },
 "nbformat": 4,
 "nbformat_minor": 5
}
