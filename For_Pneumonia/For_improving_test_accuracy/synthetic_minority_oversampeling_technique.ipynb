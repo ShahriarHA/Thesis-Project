{
 "cells": [
  {
   "cell_type": "code",
   "execution_count": 1,
   "id": "929264a8",
   "metadata": {},
   "outputs": [],
   "source": [
    "from imblearn.over_sampling import SMOTE\n",
    "import cv2\n",
    "import os\n",
    "import numpy as np"
   ]
  },
  {
   "cell_type": "code",
   "execution_count": 2,
   "id": "c3cb1ac0",
   "metadata": {},
   "outputs": [],
   "source": [
    "dataset_dir = \"D:/NEUB/MachineLearning/ThesisProject/x-rayImages/chest_xray/train\""
   ]
  },
  {
   "cell_type": "markdown",
   "id": "2f7ffaf6",
   "metadata": {},
   "source": [
    "#### Identifying the minority class"
   ]
  },
  {
   "cell_type": "code",
   "execution_count": 3,
   "id": "0ffac705",
   "metadata": {},
   "outputs": [
    {
     "name": "stdout",
     "output_type": "stream",
     "text": [
      "Class counts:\n",
      "NORMAL: 1341 samples\n",
      "PNEUMONIA: 3875 samples\n",
      "The minority class is: NORMAL\n"
     ]
    }
   ],
   "source": [
    "classes = os.listdir(dataset_dir)\n",
    "\n",
    "class_counts = {}\n",
    "\n",
    "for class_name in classes:\n",
    "    class_path = os.path.join(dataset_dir, class_name)\n",
    "    num_samples = len(os.listdir(class_path))\n",
    "    class_counts[class_name] = num_samples\n",
    "\n",
    "# Determine the minority class\n",
    "minority_class = min(class_counts, key=class_counts.get)\n",
    "\n",
    "print(\"Class counts:\")\n",
    "for class_name, count in class_counts.items():\n",
    "    print(f\"{class_name}: {count} samples\")\n",
    "\n",
    "print(f\"The minority class is: {minority_class}\")"
   ]
  },
  {
   "cell_type": "code",
   "execution_count": 4,
   "id": "29d2ee55",
   "metadata": {},
   "outputs": [],
   "source": [
    "def load_images_from_directory(directory):\n",
    "    images = []\n",
    "    labels = []\n",
    "    for class_name in os.listdir(directory):\n",
    "        class_dir = os.path.join(directory, class_name)\n",
    "        if os.path.isdir(class_dir):\n",
    "            for image_name in os.listdir(class_dir):\n",
    "                image_path = os.path.join(class_dir, image_name)\n",
    "                image = cv2.imread(image_path)\n",
    "                if image is not None:\n",
    "                    image = cv2.resize(image, (256, 256))\n",
    "                    images.append(image)\n",
    "                    labels.append(class_name)\n",
    "    return images, labels"
   ]
  },
  {
   "cell_type": "code",
   "execution_count": 5,
   "id": "fcacdf7b",
   "metadata": {},
   "outputs": [],
   "source": [
    "images, labels = load_images_from_directory(dataset_dir)"
   ]
  },
  {
   "cell_type": "code",
   "execution_count": 6,
   "id": "4d5dd15f",
   "metadata": {},
   "outputs": [],
   "source": [
    "X = np.array(images)\n",
    "y = np.array(labels)"
   ]
  },
  {
   "cell_type": "code",
   "execution_count": 13,
   "id": "8e49ccbf",
   "metadata": {},
   "outputs": [],
   "source": [
    "# Initialize SMOTE with your desired sampling strategy\n",
    "smote = SMOTE(sampling_strategy='auto',k_neighbors=7, random_state=42)"
   ]
  },
  {
   "cell_type": "code",
   "execution_count": 14,
   "id": "3f01e7bc",
   "metadata": {},
   "outputs": [],
   "source": [
    "# Apply SMOTE to your training data\n",
    "X_resampled, y_resampled = smote.fit_resample(X.reshape(-1, X.shape[1]*X.shape[2]*X.shape[3]), y)"
   ]
  },
  {
   "cell_type": "code",
   "execution_count": 15,
   "id": "a2c86e0e",
   "metadata": {},
   "outputs": [],
   "source": [
    "# Convert the resampled images back to their original shape\n",
    "X_resampled = X_resampled.reshape(-1, X.shape[1], X.shape[2], X.shape[3])"
   ]
  },
  {
   "cell_type": "code",
   "execution_count": 16,
   "id": "af5e792e",
   "metadata": {},
   "outputs": [],
   "source": [
    "resampled_dir = \"D:/NEUB/MachineLearning/ThesisProject/x-rayImages/chest_xray/train_resampled_v2\"\n",
    "os.makedirs(resampled_dir, exist_ok=True)"
   ]
  },
  {
   "cell_type": "code",
   "execution_count": 17,
   "id": "147b83b9",
   "metadata": {},
   "outputs": [
    {
     "name": "stdout",
     "output_type": "stream",
     "text": [
      "done!\n"
     ]
    }
   ],
   "source": [
    "for i, (image, label) in enumerate(zip(X_resampled, y_resampled)):\n",
    "    class_dir = os.path.join(resampled_dir, label)\n",
    "    os.makedirs(class_dir, exist_ok=True)\n",
    "    filename = f\"{label}_{i}.jpeg\"\n",
    "    image_path = os.path.join(class_dir, filename)\n",
    "    cv2.imwrite(image_path, image)\n",
    "print(\"done!\")"
   ]
  },
  {
   "cell_type": "code",
   "execution_count": null,
   "id": "5680c886",
   "metadata": {},
   "outputs": [],
   "source": []
  }
 ],
 "metadata": {
  "kernelspec": {
   "display_name": "Python 3 (ipykernel)",
   "language": "python",
   "name": "python3"
  },
  "language_info": {
   "codemirror_mode": {
    "name": "ipython",
    "version": 3
   },
   "file_extension": ".py",
   "mimetype": "text/x-python",
   "name": "python",
   "nbconvert_exporter": "python",
   "pygments_lexer": "ipython3",
   "version": "3.9.16"
  }
 },
 "nbformat": 4,
 "nbformat_minor": 5
}
