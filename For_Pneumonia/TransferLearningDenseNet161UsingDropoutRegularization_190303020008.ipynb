{
 "cells": [
  {
   "cell_type": "code",
   "execution_count": 1,
   "metadata": {},
   "outputs": [],
   "source": [
    "import torch\n",
    "import re\n",
    "\n",
    "from torchvision import models, datasets, transforms\n",
    "import os\n",
    "import time"
   ]
  },
  {
   "cell_type": "code",
   "execution_count": 2,
   "metadata": {},
   "outputs": [
    {
     "name": "stdout",
     "output_type": "stream",
     "text": [
      "{'train': 5216, 'val': 16, 'test': 624}\n",
      "['NORMAL', 'PNEUMONIA']\n",
      "['NORMAL', 'PNEUMONIA']\n"
     ]
    }
   ],
   "source": [
    "\n",
    "data_dir = 'D:/NEUB/MachineLearning/ThesisProject/x-rayImages/chest_xray/chest_xray'\n",
    "\n",
    "data_transforms = {\n",
    "    'train': transforms.Compose([\n",
    "        transforms.Resize((224, 224)),\n",
    "        transforms.RandomGrayscale(p=0.3),\n",
    "        transforms.RandomHorizontalFlip(p=0.5),\n",
    "        # transforms.Lambda(lambda img: transforms.functional.equalize(img)),\n",
    "        # transforms.RandomAffine(degrees=0, scale=(1.0, 1.3)),  # Random scaling between 1.0 and 1.2\n",
    "        # transforms.RandomAdjustSharpness(sharpness_factor=2),  # Contrast stretching\n",
    "        transforms.RandomRotation(degrees=(-7, 7)),\n",
    "        transforms.RandomAffine(degrees=0, translate=(0.1, 0.1)),\n",
    "        transforms.RandomCrop((180,180)),\n",
    "        transforms.ToTensor(),\n",
    "        transforms.Normalize([0.0020],[0.0010])\n",
    "    ]),\n",
    "    'val': transforms.Compose([\n",
    "        transforms.Resize((224, 224)),\n",
    "        transforms.ToTensor(),\n",
    "        transforms.Normalize([0.0020],[0.0010])\n",
    "    ]),\n",
    "    'test': transforms.Compose([\n",
    "        transforms.Resize((224, 224)),\n",
    "        transforms.ToTensor(),\n",
    "        transforms.Normalize([0.0020],[0.0010])\n",
    "    ])\n",
    "}\n",
    "\n",
    "# Load the datasets and apply the transformations\n",
    "img_datasets = {\n",
    "    x: datasets.ImageFolder(os.path.join(data_dir, x), transform=data_transforms[x])\n",
    "    for x in ['train', 'val', 'test']\n",
    "}\n",
    "\n",
    "# Create data loaders\n",
    "dataloaders = {\n",
    "    x: torch.utils.data.DataLoader(img_datasets[x], batch_size=32, shuffle=True, num_workers=4)\n",
    "    for x in ['train', 'val', 'test']\n",
    "}\n",
    "\n",
    "# Get dataset sizes\n",
    "dataset_sizes = {x: len(img_datasets[x]) for x in ['train', 'val', 'test']}\n",
    "print(dataset_sizes)\n",
    "\n",
    "# Get class names\n",
    "class_names = img_datasets['train'].classes\n",
    "print(class_names)\n",
    "\n",
    "# Get class names test\n",
    "class_names_test = img_datasets['test'].classes\n",
    "print(class_names_test)\n"
   ]
  },
  {
   "cell_type": "code",
   "execution_count": 3,
   "metadata": {},
   "outputs": [
    {
     "name": "stderr",
     "output_type": "stream",
     "text": [
      "c:\\Users\\HP\\.conda\\envs\\ForML\\lib\\site-packages\\torchvision\\models\\_utils.py:208: UserWarning: The parameter 'pretrained' is deprecated since 0.13 and will be removed in 0.15, please use 'weights' instead.\n",
      "  warnings.warn(\n",
      "c:\\Users\\HP\\.conda\\envs\\ForML\\lib\\site-packages\\torchvision\\models\\_utils.py:223: UserWarning: Arguments other than a weight enum or `None` for 'weights' are deprecated since 0.13 and will be removed in 0.15. The current behavior is equivalent to passing `weights=DenseNet161_Weights.IMAGENET1K_V1`. You can also use `weights=DenseNet161_Weights.DEFAULT` to get the most up-to-date weights.\n",
      "  warnings.warn(msg)\n"
     ]
    }
   ],
   "source": [
    "model = models.densenet161(pretrained = True)"
   ]
  },
  {
   "cell_type": "code",
   "execution_count": 4,
   "metadata": {},
   "outputs": [
    {
     "name": "stdout",
     "output_type": "stream",
     "text": [
      "484\n",
      "28681000\n"
     ]
    }
   ],
   "source": [
    "# freezing the layers of the pre-trained model\n",
    "i = 0\n",
    "for freeze_parameters in model.parameters():\n",
    "    freeze_parameters.requires_grad = False\n",
    "    i+=1\n",
    "print(i)\n",
    "total_params = sum(p.numel() for p in model.parameters())\n",
    "print(total_params)"
   ]
  },
  {
   "cell_type": "code",
   "execution_count": 5,
   "metadata": {},
   "outputs": [],
   "source": [
    "import torch.nn as nn"
   ]
  },
  {
   "cell_type": "code",
   "execution_count": 6,
   "metadata": {},
   "outputs": [],
   "source": [
    "# Replace the classifier with a new linear layer\n",
    "num_input_features = model.classifier.in_features\n",
    "model.classifier = nn.Sequential(\n",
    "    nn.Dropout(0.2),  # Add dropout regularization with 20% dropout rate\n",
    "    nn.Linear(num_input_features, 2)\n",
    ")\n"
   ]
  },
  {
   "cell_type": "code",
   "execution_count": 7,
   "metadata": {},
   "outputs": [],
   "source": [
    "# define the loss function\n",
    "# which helps to measures the error between the predicted and true labels for multiclass classification.\n",
    "criteration = nn.CrossEntropyLoss()"
   ]
  },
  {
   "cell_type": "code",
   "execution_count": 8,
   "metadata": {},
   "outputs": [],
   "source": [
    "# Define the aptimization loss\n",
    "import torch.optim as optim\n",
    "\n",
    "optimizer = optim.Adam(model.parameters())\n",
    "\n",
    "# select the Adam optimizer to update the weights of the linear layer during training.\n",
    "# The optimizer takes the parameters of the model as input."
   ]
  },
  {
   "cell_type": "code",
   "execution_count": 9,
   "metadata": {},
   "outputs": [
    {
     "name": "stdout",
     "output_type": "stream",
     "text": [
      "Epoch 1/10: Training Loss: 0.2766 Acc: 0.8871, Validation Loss: 0.4307 Acc: 0.8125\n",
      "Epoch 2/10: Training Loss: 0.2025 Acc: 0.9166, Validation Loss: 0.4975 Acc: 0.7500\n",
      "Epoch 3/10: Training Loss: 0.1855 Acc: 0.9260, Validation Loss: 0.3287 Acc: 0.8125\n",
      "Epoch 4/10: Training Loss: 0.1866 Acc: 0.9262, Validation Loss: 0.4870 Acc: 0.6875\n",
      "Epoch 5/10: Training Loss: 0.1800 Acc: 0.9241, Validation Loss: 0.3115 Acc: 0.8750\n",
      "Epoch 6/10: Training Loss: 0.1575 Acc: 0.9367, Validation Loss: 0.3891 Acc: 0.7500\n",
      "Epoch 7/10: Training Loss: 0.1635 Acc: 0.9375, Validation Loss: 0.4709 Acc: 0.6875\n",
      "Epoch 8/10: Training Loss: 0.1716 Acc: 0.9346, Validation Loss: 0.3366 Acc: 0.7500\n",
      "Epoch 9/10: Training Loss: 0.1714 Acc: 0.9327, Validation Loss: 0.3644 Acc: 0.7500\n",
      "Epoch 10/10: Training Loss: 0.1759 Acc: 0.9344, Validation Loss: 0.4083 Acc: 0.7500\n",
      "Training complete in 12m 10s\n"
     ]
    },
    {
     "data": {
      "text/plain": [
       "<All keys matched successfully>"
      ]
     },
     "execution_count": 9,
     "metadata": {},
     "output_type": "execute_result"
    }
   ],
   "source": [
    "# set the divice \n",
    "device = torch.device(\"cuda:0\" if torch.cuda.is_available() else \"cpu\")\n",
    "\n",
    "# move the model to the device\n",
    "model = model.to(device)\n",
    "\n",
    "num_epochs = 10\n",
    "\n",
    "best_loss = float('inf')\n",
    "best_weights = None\n",
    "\n",
    "# ...\n",
    "\n",
    "for epoch in range(num_epochs):\n",
    "    since = time.time()\n",
    "    running_loss = 0.0\n",
    "    running_corrects = 0\n",
    "    val_loss = 0.0\n",
    "    val_corrects = 0\n",
    "    \n",
    "    # set the model in training mode\n",
    "    model.train()\n",
    "\n",
    "    for inputs, labels in dataloaders['train']:\n",
    "        inputs = inputs.to(device)\n",
    "        labels = labels.to(device)\n",
    "\n",
    "        # zero the parameter gradients\n",
    "        optimizer.zero_grad()\n",
    "\n",
    "        # forward pass\n",
    "        features = model(inputs)\n",
    "        outputs = features\n",
    "\n",
    "        # compute the loss\n",
    "        loss = criteration(outputs, labels)\n",
    "\n",
    "        # backward pass\n",
    "        loss.backward()\n",
    "\n",
    "        # update the parameter\n",
    "        optimizer.step()\n",
    "\n",
    "        # calculate training accuracy\n",
    "        _, preds = torch.max(outputs, 1)\n",
    "        running_loss += loss.item() * inputs.size(0)\n",
    "        running_corrects += torch.sum(preds == labels.data)\n",
    "\n",
    "    # calculate training loss and accuracy\n",
    "    epoch_loss = running_loss / dataset_sizes['train']\n",
    "    epoch_acc = running_corrects.double() / dataset_sizes['train']\n",
    "\n",
    "    model.eval()\n",
    "\n",
    "    with torch.no_grad():\n",
    "        for inputs, labels in dataloaders['val']:\n",
    "            inputs = inputs.to(device)\n",
    "            labels = labels.to(device)\n",
    "\n",
    "            # forward pass\n",
    "            features = model(inputs)\n",
    "            outputs = features\n",
    "\n",
    "            # calculate the loss\n",
    "            val_loss += criteration(outputs, labels).item() * inputs.size(0)\n",
    "\n",
    "            # calculate validation accuracy\n",
    "            _, preds = torch.max(outputs, 1)\n",
    "            val_corrects += torch.sum(preds == labels.data)\n",
    "\n",
    "    # calculate validation loss and accuracy\n",
    "    val_loss = val_loss / dataset_sizes['val']\n",
    "    val_acc = val_corrects.double() / dataset_sizes['val']\n",
    "\n",
    "    # Check if current validation loss is better than the best loss\n",
    "    if val_loss < best_loss:\n",
    "        best_loss = val_loss\n",
    "        best_weights = model.state_dict()\n",
    "\n",
    "    # Print epoch, training loss, training accuracy, validation loss, and validation accuracy\n",
    "    print(f'Epoch {epoch+1}/{num_epochs}: Training Loss: {epoch_loss:.4f} Acc: {epoch_acc:.4f}, '\n",
    "          f'Validation Loss: {val_loss:.4f} Acc: {val_acc:.4f}')\n",
    "\n",
    "time_elapsed = time.time() - since\n",
    "print(f\"Training complete in {time_elapsed // 60:.0f}m {time_elapsed % 60:.0f}s\")\n",
    "\n",
    "# Load the best weights\n",
    "model.load_state_dict(best_weights)\n"
   ]
  },
  {
   "cell_type": "markdown",
   "metadata": {},
   "source": [
    "### Claculating Accuracy, Precision, Recall, confusion matrix"
   ]
  },
  {
   "cell_type": "code",
   "execution_count": 11,
   "metadata": {},
   "outputs": [],
   "source": [
    "from sklearn.metrics import confusion_matrix, accuracy_score,precision_score,recall_score"
   ]
  },
  {
   "cell_type": "code",
   "execution_count": 12,
   "metadata": {},
   "outputs": [],
   "source": [
    "# Calculate test accuracy, precision, and recall\n",
    "test_corrects = 0\n",
    "predicted_labels = []\n",
    "true_labels = []\n",
    "model.eval()\n",
    "\n",
    "with torch.no_grad():\n",
    "    for inputs, labels in dataloaders['test']:\n",
    "        inputs = inputs.to(device)\n",
    "        labels = labels.to(device)\n",
    "\n",
    "        # Forward pass\n",
    "        features = model(inputs)\n",
    "        outputs = features\n",
    "\n",
    "        # Calculate test accuracy\n",
    "        _, preds = torch.max(outputs, 1)\n",
    "        test_corrects += torch.sum(preds == labels.data)\n",
    "\n",
    "        # Store predicted and true labels for confusion matrix\n",
    "        predicted_labels.extend(preds.cpu().numpy())\n",
    "        true_labels.extend(labels.cpu().numpy())\n",
    "    \n",
    "# Calculate test accuracy\n",
    "test_acc = test_corrects.double() / dataset_sizes['test']\n",
    "\n",
    "# Calculate confusion matrix\n",
    "confusion_mat = confusion_matrix(true_labels, predicted_labels)\n",
    "\n",
    "# Calculate precision and recall\n",
    "precision = precision_score(true_labels, predicted_labels, average='macro')\n",
    "recall = recall_score(true_labels, predicted_labels, average='macro')"
   ]
  },
  {
   "cell_type": "code",
   "execution_count": 13,
   "metadata": {},
   "outputs": [
    {
     "name": "stdout",
     "output_type": "stream",
     "text": [
      "Test Accuracy: 0.8750\n",
      "Precision: 0.8878\n",
      "Recall: 0.8462\n",
      "Confusion Matrix:\n",
      "[[171  63]\n",
      " [ 15 375]]\n"
     ]
    }
   ],
   "source": [
    "print(f'Test Accuracy: {test_acc:.4f}')\n",
    "print(f'Precision: {precision:.4f}')\n",
    "print(f'Recall: {recall:.4f}')\n",
    "print('Confusion Matrix:')\n",
    "print(confusion_mat)"
   ]
  },
  {
   "cell_type": "code",
   "execution_count": null,
   "metadata": {},
   "outputs": [],
   "source": []
  }
 ],
 "metadata": {
  "kernelspec": {
   "display_name": "Python 3 (ipykernel)",
   "language": "python",
   "name": "python3"
  },
  "language_info": {
   "codemirror_mode": {
    "name": "ipython",
    "version": 3
   },
   "file_extension": ".py",
   "mimetype": "text/x-python",
   "name": "python",
   "nbconvert_exporter": "python",
   "pygments_lexer": "ipython3",
   "version": "3.9.16"
  }
 },
 "nbformat": 4,
 "nbformat_minor": 2
}
